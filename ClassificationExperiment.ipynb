{
 "cells": [
  {
   "cell_type": "markdown",
   "metadata": {},
   "source": [
    "# 1.导入库"
   ]
  },
  {
   "cell_type": "code",
   "execution_count": 17,
   "metadata": {
    "collapsed": true
   },
   "outputs": [],
   "source": [
    "import numpy as np\n",
    "from numpy import dot\n",
    "\n",
    "from sklearn import datasets as ds  \n",
    "from sklearn import model_selection as ms\n",
    "\n",
    "import matplotlib.pyplot as plt \n",
    "\n",
    "import math as m "
   ]
  },
  {
   "cell_type": "markdown",
   "metadata": {},
   "source": [
    "# 2.读入并处理数据"
   ]
  },
  {
   "cell_type": "code",
   "execution_count": 18,
   "metadata": {
    "collapsed": true
   },
   "outputs": [],
   "source": [
    "#读取数据\n",
    "def dataLoader(file):   \n",
    "    global amountOfData\n",
    "    global n_features\n",
    "    global C\n",
    "    global rateOfValidation\n",
    "    global amountOfValidation\n",
    "    global amountOfTrain\n",
    "    #如果是回归，则没有C\n",
    "   \n",
    "    #获取数据\n",
    "    x_temp,y_temp = ds.load_svmlight_file(file) \n",
    "    \n",
    "    #获取数据量&特征个数\n",
    "    amountOfData = x_temp.shape[0]\n",
    "    amountOfValidation = m.ceil( amountOfData * rateOfValidation )\n",
    "    amountOfTrain = amountOfData - amountOfValidation\n",
    "    \n",
    "    n_features = x_temp.shape[1] + 1\n",
    "    \n",
    "    C = C / amountOfTrain\n",
    "    #由于x_train是稀疏矩阵，而y_train是n维矩阵，作为初学者将其统一为ndarray处理\n",
    "    x_temp = np.array( x_temp.todense() ) \n",
    "    \n",
    "    #生成返回的x数据集\n",
    "    #拼接数组，在最后加上个1\n",
    "    app = np.array([1])\n",
    "    return_x = np.zeros((x_temp.shape[0],n_features))\n",
    "    for i in range(amountOfData):\n",
    "        return_x[i] = np.append(x_temp[i],app)\n",
    "   \n",
    "    #生成返回的y数据集   \n",
    "    return_y = y_temp.reshape(amountOfData,1)\n",
    "    \n",
    "    return return_x,return_y"
   ]
  },
  {
   "cell_type": "markdown",
   "metadata": {},
   "source": [
    "# 3.定义数据分割函数"
   ]
  },
  {
   "cell_type": "code",
   "execution_count": 7,
   "metadata": {
    "collapsed": true
   },
   "outputs": [],
   "source": [
    "def dataSpliter(x_source,y_source):\n",
    "    global amountOfTrain\n",
    "    x_train_return,x_validation_return,y_train_return,y_validation_return = ms.train_test_split( x_source,y_source,test_size=rateOfValidation)\n",
    "    \n",
    "    return x_train_return,x_validation_return,y_train_return,y_validation_return\n",
    "    \n",
    "    "
   ]
  },
  {
   "cell_type": "markdown",
   "metadata": {
    "collapsed": true
   },
   "source": [
    "# 4.定义loss函数（本次利用hinge_loss构造）"
   ]
  },
  {
   "cell_type": "code",
   "execution_count": 8,
   "metadata": {
    "collapsed": true
   },
   "outputs": [],
   "source": [
    "def loss(x_set,y_set,W):\n",
    "    #数据的数量\n",
    "    amount = x_set.shape[0]\n",
    "    \n",
    "    #W_part\n",
    "    W_part = dot(W.T,W)[0][0]\n",
    "    \n",
    "    #hinge_part\n",
    "    hinge_loss_part = 0\n",
    "    for i in range(amount):\n",
    "        hinge = 1 - dot( y_set[i], dot( W.T,x_set[i] ) )\n",
    "        if(hinge>0):\n",
    "            hinge_loss_part += hinge\n",
    "  \n",
    "    #total_loss\n",
    "    total_loss = 0.5 * W_part + C * hinge_loss_part  \n",
    "\n",
    "    return total_loss"
   ]
  },
  {
   "cell_type": "markdown",
   "metadata": {},
   "source": [
    "# 5.定义求梯度函数（导数）"
   ]
  },
  {
   "cell_type": "code",
   "execution_count": 9,
   "metadata": {
    "collapsed": true
   },
   "outputs": [],
   "source": [
    "def getGrad(x_set,y_set,W):    \n",
    "    #数据的数量\n",
    "    amount = x_set.shape[0]\n",
    "    \n",
    "    #求导数\n",
    "    grad = W.T\n",
    "    for i in range(amount):\n",
    "        hinge = 1 - dot( y_set[i], dot( W.T,x_set[i] ) )\n",
    "        if(hinge>0):\n",
    "           grad = grad - C * y_set[i] * x_set[i]\n",
    "    \n",
    "    return grad.T"
   ]
  },
  {
   "cell_type": "markdown",
   "metadata": {},
   "source": [
    "# 6.定义优化函数"
   ]
  },
  {
   "cell_type": "code",
   "execution_count": 10,
   "metadata": {
    "collapsed": true
   },
   "outputs": [],
   "source": [
    "def optimizier(x_train,x_validation,y_train,y_validation):\n",
    "    global it_num\n",
    "    global C\n",
    "    global lr\n",
    "    global W\n",
    "    global n_features\n",
    "    global quotient\n",
    "    global y_train_loss\n",
    "    global y_validation_loss\n",
    "     #如果是线性回归，则没有accuracy_vector\n",
    "    global accuracy_vectort\n",
    "    global accuracy_vectorv\n",
    "    W = np.random.rand(n_features,1)\n",
    "    \n",
    "    j=0\n",
    "    for i in range(it_num):\n",
    "        if( (i+1) % quotient == 0 ):\n",
    "            y_train_loss[j] = loss(x_train,y_train,W)\n",
    "            y_validation_loss[j] = loss(x_validation,y_validation,W)\n",
    "            #如果是线性回归，则没有accuracy_vector\n",
    "            accuracy_vectort[j] = accuracy(x_train,y_train)\n",
    "            accuracy_vectorv[j] = accuracy(x_validation,y_validation)\n",
    "            j = j + 1\n",
    "        W = W - lr * getGrad(x_train,y_train,W)      "
   ]
  },
  {
   "cell_type": "markdown",
   "metadata": {},
   "source": [
    "# Ex.定义准确率函数"
   ]
  },
  {
   "cell_type": "code",
   "execution_count": 11,
   "metadata": {
    "collapsed": true
   },
   "outputs": [],
   "source": [
    "def accuracy(x_set,y_set):\n",
    "    amount = y_set.shape[0]\n",
    "    y_predict = np.zeros( ( amount, 1) ) \n",
    "    \n",
    "    for i in range(amount):\n",
    "        decision = dot(W.T,x_set[i])[0]\n",
    "        if(decision >= 0):\n",
    "           y_predict[i][0] = 1\n",
    "        else:\n",
    "           y_predict[i][0] = -1\n",
    "    \n",
    "    accurate_amount = 0\n",
    "    for i in range(amount):\n",
    "        if( y_predict[i][0] == y_set[i][0] ):\n",
    "            accurate_amount += 1\n",
    "        \n",
    "    accur = accurate_amount / amount\n",
    "    return accur"
   ]
  },
  {
   "cell_type": "markdown",
   "metadata": {},
   "source": [
    "# 7. 定义作图函数 "
   ]
  },
  {
   "cell_type": "code",
   "execution_count": 12,
   "metadata": {
    "collapsed": true
   },
   "outputs": [],
   "source": [
    "def draw():\n",
    "    global x_it_num\n",
    "    global y_train_loss\n",
    "    global y_validation_loss\n",
    "    \n",
    "    plt.figure(figsize=(10,8), dpi=80)\n",
    "    plt.xticks(fontsize=15)\n",
    "    plt.yticks(fontsize=15)\n",
    "    \n",
    "    plt.title( 'Linear SVM', fontsize=30 )\n",
    "    \n",
    "    plt.xlabel( 'iterations numbers', fontsize=20 )\n",
    "    plt.ylabel( 'loss', fontsize=20 )\n",
    "    \n",
    "    plt.plot( x_it_num, y_train_loss, label='loss_train' )\n",
    "    plt.plot( x_it_num, y_validation_loss, label='loss_validation' )\n",
    "    plt.legend()\n",
    "    \n",
    "    plt.figure(figsize=(10,8), dpi=80)\n",
    "    plt.xticks(fontsize=15)\n",
    "    plt.yticks(fontsize=15)\n",
    "   \n",
    "    plt.xlabel( 'iterations numbers', fontsize=20 )\n",
    "    plt.ylabel( 'accuracy', fontsize=20 )\n",
    "    \n",
    "    plt.plot( x_it_num, accuracy_vectort, color='red', label='accuracy_train' )\n",
    "    plt.plot( x_it_num, accuracy_vectorv, color='green', label='accuracy_validation' )\n",
    "    \n",
    "    plt.legend()\n",
    "    plt.show()"
   ]
  },
  {
   "cell_type": "markdown",
   "metadata": {},
   "source": [
    "# 8.定义全局变量以及主要过程"
   ]
  },
  {
   "cell_type": "code",
   "execution_count": 25,
   "metadata": {
    "scrolled": false
   },
   "outputs": [
    {
     "name": "stdout",
     "output_type": "stream",
     "text": [
      "1.0\n",
      "0.8695652173913043\n",
      "0.8260869565217391\n"
     ]
    },
    {
     "data": {
      "image/png": "[encoded data removed]",
      "text/plain": [
       "<matplotlib.figure.Figure at 0x9fd9fb0>"
      ]
     },
     "metadata": {},
     "output_type": "display_data"
    },
    {
     "data": {
      "image/png": "[encoded data removed]",
      "text/plain": [
       "<matplotlib.figure.Figure at 0xa069ab0>"
      ]
     },
     "metadata": {},
     "output_type": "display_data"
    }
   ],
   "source": [
    "# 定义全局变量\n",
    "#数据shape和amount相关全局变量\n",
    "amountOfData = 0 \n",
    "amountOfTrain = 0\n",
    "amountOfValidation = 0\n",
    "\n",
    "rateOfValidation = 1/3\n",
    "\n",
    "n_features = 0\n",
    "\n",
    "#迭代次数it_num,惩罚系数C，学习率lr，权值W，\n",
    "it_num = 3000\n",
    "C = 1\n",
    "#C应考虑训练数据量，所以在读取函数中更新\n",
    "lr = 0.01\n",
    "W = 0 #在优化函数中才能初始化 \n",
    "\n",
    "#作图x,y相关列表（采用列表方式）\n",
    "amountOfPoints = 300\n",
    "quotient = it_num // amountOfPoints \n",
    "#主要是为了方便。。。请保证这个it_num能被amountOfPoints整除 \n",
    "x_it_num = np.arange(amountOfPoints)\n",
    "y_train_loss = np.linspace(1,20,amountOfPoints)\n",
    "y_validation_loss = np.linspace(1,20,amountOfPoints)\n",
    "accuracy_vectort = np.linspace(1,20,amountOfPoints)\n",
    "accuracy_vectorv = np.linspace(1,20,amountOfPoints)\n",
    "#主函数部分\n",
    "#读取数据&分割数据\n",
    "x_source,y_source = dataLoader('D:/austrilian.txt')\n",
    "x_train,x_validation,y_train,y_validation = dataSpliter(x_source,y_source)\n",
    "\n",
    "#进行优化\n",
    "optimizier(x_train,x_validation,y_train,y_validation)\n",
    "\n",
    "print(accuracy(x_train,y_train))\n",
    "print(accuracy(x_validation,y_validation))\n",
    "#画图\n",
    "draw()\n"
   ]
  }
 ],
 "metadata": {
  "kernelspec": {
   "display_name": "Python 3",
   "language": "python",
   "name": "python3"
  },
  "language_info": {
   "codemirror_mode": {
    "name": "ipython",
    "version": 3
   },
   "file_extension": ".py",
   "mimetype": "text/x-python",
   "name": "python",
   "nbconvert_exporter": "python",
   "pygments_lexer": "ipython3",
   "version": "3.6.3"
  }
 },
 "nbformat": 4,
 "nbformat_minor": 2
}
