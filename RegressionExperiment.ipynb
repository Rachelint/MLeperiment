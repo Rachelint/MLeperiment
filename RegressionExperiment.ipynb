{
 "cells": [
  {
   "cell_type": "markdown",
   "metadata": {},
   "source": [
    "# 1.导入库以及定义全局变量"
   ]
  },
  {
   "cell_type": "code",
   "execution_count": 1,
   "metadata": {
    "collapsed": true
   },
   "outputs": [],
   "source": [
    "import numpy as np\n",
    "from numpy import dot\n",
    "\n",
    "from sklearn import datasets as ds  \n",
    "from sklearn import model_selection as ms\n",
    "\n",
    "import matplotlib.pyplot as plt \n",
    "\n",
    "import math as m "
   ]
  },
  {
   "cell_type": "markdown",
   "metadata": {},
   "source": [
    "# 2.读入并处理数据"
   ]
  },
  {
   "cell_type": "code",
   "execution_count": 2,
   "metadata": {
    "collapsed": true
   },
   "outputs": [],
   "source": [
    "#读取数据\n",
    "def dataLoader(file):   \n",
    "    global amountOfData\n",
    "    global n_features\n",
    "   \n",
    "    #获取数据\n",
    "    x_temp,y_temp = ds.load_svmlight_file(file) \n",
    "    \n",
    "    #获取数据量&特征个数\n",
    "    amountOfData = x_temp.shape[0]\n",
    "    \n",
    "    n_features = x_temp.shape[1] + 1\n",
    "    \n",
    "    #由于x_train是稀疏矩阵，而y_train是n维矩阵，作为初学者将其统一为ndarray处理\n",
    "    x_temp = np.array( x_temp.todense() ) \n",
    "    \n",
    "    #生成返回的x数据集\n",
    "    #拼接数组，在最后加上个1\n",
    "    app = np.array([1])\n",
    "    return_x = np.zeros((x_temp.shape[0],n_features))\n",
    "    for i in range(amountOfData):\n",
    "        return_x[i] = np.append(x_temp[i],app)\n",
    "   \n",
    "    #生成返回的y数据集   \n",
    "    return_y = y_temp.reshape(amountOfData,1)\n",
    "    \n",
    "    return return_x,return_y"
   ]
  },
  {
   "cell_type": "markdown",
   "metadata": {},
   "source": [
    " # 3.定义数据分割函数"
   ]
  },
  {
   "cell_type": "code",
   "execution_count": 3,
   "metadata": {
    "collapsed": true
   },
   "outputs": [],
   "source": [
    "def dataSpliter(x_source,y_source):\n",
    "    global amountOfTrain\n",
    "    x_train_return,x_validation_return,y_train_return,y_validation_return = ms.train_test_split( x_source,y_source,test_size=rateOfValidation )\n",
    "    \n",
    "    return x_train_return,x_validation_return,y_train_return,y_validation_return"
   ]
  },
  {
   "cell_type": "markdown",
   "metadata": {
    "collapsed": true
   },
   "source": [
    "# 4.定义loss函数"
   ]
  },
  {
   "cell_type": "code",
   "execution_count": 22,
   "metadata": {
    "collapsed": true
   },
   "outputs": [],
   "source": [
    "def loss(x_set,y_set,W):\n",
    "    lossVector = y_set - np.dot(x_set,W)\n",
    "    lossVector = 0.5 * dot( np.transpose(lossVector), lossVector )\n",
    "    loss = lossVector[0][0]\n",
    "    \n",
    "    return loss"
   ]
  },
  {
   "cell_type": "markdown",
   "metadata": {},
   "source": [
    "# 5.定义求梯度函数（导数）"
   ]
  },
  {
   "cell_type": "code",
   "execution_count": 5,
   "metadata": {
    "collapsed": true
   },
   "outputs": [],
   "source": [
    "def getGrad(x_set,y_set,W):\n",
    "    grad = np.dot( np.transpose(x_set), ( np.dot(x_set,W) - y_set ) )\n",
    "    return grad"
   ]
  },
  {
   "cell_type": "markdown",
   "metadata": {},
   "source": [
    "# 6.定义优化函数"
   ]
  },
  {
   "cell_type": "code",
   "execution_count": 6,
   "metadata": {
    "collapsed": true
   },
   "outputs": [],
   "source": [
    "def optimizier(x_train,x_validation,y_train,y_validation):\n",
    "    global it_num\n",
    "    global lr\n",
    "    global W\n",
    "    global n_features\n",
    "    global quotient\n",
    "    global y_train_loss\n",
    "    global y_validation_loss\n",
    "    W = np.random.rand(n_features,1)\n",
    "    \n",
    "    j=0\n",
    "    for i in range(it_num):\n",
    "        if( (i+1) % quotient == 0 ):\n",
    "            y_train_loss[j] = loss(x_train,y_train,W)\n",
    "            y_validation_loss[j] = loss(x_validation,y_validation,W)\n",
    "            j = j + 1\n",
    "        W = W - lr * getGrad(x_train,y_train,W)"
   ]
  },
  {
   "cell_type": "markdown",
   "metadata": {},
   "source": [
    "# Ex.直接求出闭解，得到最小loss"
   ]
  },
  {
   "cell_type": "code",
   "execution_count": 30,
   "metadata": {},
   "outputs": [],
   "source": [
    "def minLoss(x_set,y_set):\n",
    "    #得到W的最优闭解\n",
    "    x_set = np.asmatrix(x_set)\n",
    "    Wm = dot( np.asarray( (x_set.T * x_set).I * x_set.T ) , y_set )\n",
    "    x_set = np.asarray(x_set)\n",
    "    \n",
    "    return loss( x_set, y_set, Wm )"
   ]
  },
  {
   "cell_type": "markdown",
   "metadata": {},
   "source": [
    "# 7. 定义作图函数 "
   ]
  },
  {
   "cell_type": "code",
   "execution_count": 8,
   "metadata": {
    "collapsed": true
   },
   "outputs": [],
   "source": [
    "def draw():\n",
    "    global x_it_num\n",
    "    global y_train_loss\n",
    "    global y_validation_loss\n",
    "    \n",
    "    plt.figure(figsize=(10,8), dpi=80)\n",
    "    plt.xticks(fontsize=15)\n",
    "    plt.yticks(fontsize=15)\n",
    "    \n",
    "    plt.title( 'Linear Regression', fontsize=30 )\n",
    "    \n",
    "    plt.xlabel( 'iterations numbers', fontsize=20 )\n",
    "    plt.ylabel( 'loss', fontsize=20 )\n",
    "    \n",
    "    plt.plot( x_it_num, y_train_loss, label='train_loss' )\n",
    "    plt.plot( x_it_num, y_validation_loss, label='validation_loss' )\n",
    "    \n",
    "    plt.legend()\n",
    "    plt.show()"
   ]
  },
  {
   "cell_type": "markdown",
   "metadata": {},
   "source": [
    "#  8.定义全局变量以及主要过程"
   ]
  },
  {
   "cell_type": "code",
   "execution_count": 60,
   "metadata": {
    "scrolled": false
   },
   "outputs": [
    {
     "name": "stdout",
     "output_type": "stream",
     "text": [
      "预测结果(最好结果): 1530.2397694\n",
      "评估结果: 1931.79878646\n"
     ]
    },
    {
     "data": {
      "image/png": "[encoded data removed]",
      "text/plain": [
       "<matplotlib.figure.Figure at 0x82351b0>"
      ]
     },
     "metadata": {},
     "output_type": "display_data"
    }
   ],
   "source": [
    "# 定义全局变量\n",
    "#数据shape和amount相关全局变量\n",
    "amountOfData = 0 \n",
    "\n",
    "rateOfValidation = 1/3\n",
    "\n",
    "n_features = 0\n",
    "\n",
    "#迭代次数it_num,惩罚系数C，学习率lr，权值W，\n",
    "it_num = 2000\n",
    "lr = 0.0001\n",
    "W = 0 #在优化函数中才能初始化 \n",
    "\n",
    "#作图x,y相关列表（采用列表方式）\n",
    "amountOfPoints = 200\n",
    "quotient = it_num // amountOfPoints \n",
    "#主要是为了方便。。。请保证这个it_num能被amountOfPoints整除 \n",
    "x_it_num = np.arange(amountOfPoints)\n",
    "y_train_loss = np.arange(amountOfPoints)\n",
    "y_validation_loss = np.arange(amountOfPoints)\n",
    "\n",
    "#主函数部分\n",
    "#读取数据&分割数据\n",
    "x_source,y_source = dataLoader('D:/housing.txt')\n",
    "x_train,x_validation,y_train,y_validation = dataSpliter(x_source,y_source)\n",
    "\n",
    "#进行优化\n",
    "optimizier(x_train,x_validation,y_train,y_validation)\n",
    "\n",
    "#理想结果和评估结果\n",
    "ml = minLoss(x_validation,y_validation)\n",
    "l = loss(x_validation,y_validation,W)\n",
    "print( '预测结果(最好结果):',ml )\n",
    "print( '评估结果:',l )\n",
    "\n",
    "#画图\n",
    "draw()\n"
   ]
  }
 ],
 "metadata": {
  "kernelspec": {
   "display_name": "Python 3",
   "language": "python",
   "name": "python3"
  },
  "language_info": {
   "codemirror_mode": {
    "name": "ipython",
    "version": 3
   },
   "file_extension": ".py",
   "mimetype": "text/x-python",
   "name": "python",
   "nbconvert_exporter": "python",
   "pygments_lexer": "ipython3",
   "version": "3.6.3"
  }
 },
 "nbformat": 4,
 "nbformat_minor": 2
}
